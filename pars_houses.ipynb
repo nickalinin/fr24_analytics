{
 "cells": [
  {
   "cell_type": "code",
   "execution_count": 1,
   "id": "9636d658",
   "metadata": {},
   "outputs": [],
   "source": [
    "import requests as r\n",
    "import pandas as pd\n",
    "import numpy as np\n",
    "import time\n",
    "from tqdm import tqdm\n",
    "import scrapy\n",
    "import json\n",
    "import re"
   ]
  },
  {
   "cell_type": "code",
   "execution_count": 6,
   "id": "567ae414",
   "metadata": {},
   "outputs": [],
   "source": [
    "df = pd.read_excel('data.xlsx', sheet_name='data')"
   ]
  },
  {
   "cell_type": "code",
   "execution_count": 339,
   "id": "539776f6",
   "metadata": {},
   "outputs": [
    {
     "data": {
      "text/html": [
       "<div>\n",
       "<style scoped>\n",
       "    .dataframe tbody tr th:only-of-type {\n",
       "        vertical-align: middle;\n",
       "    }\n",
       "\n",
       "    .dataframe tbody tr th {\n",
       "        vertical-align: top;\n",
       "    }\n",
       "\n",
       "    .dataframe thead th {\n",
       "        text-align: right;\n",
       "    }\n",
       "</style>\n",
       "<table border=\"1\" class=\"dataframe\">\n",
       "  <thead>\n",
       "    <tr style=\"text-align: right;\">\n",
       "      <th></th>\n",
       "      <th>file_name</th>\n",
       "      <th>adress</th>\n",
       "      <th>oktmo</th>\n",
       "      <th>type_house</th>\n",
       "      <th>condition</th>\n",
       "      <th>s_total</th>\n",
       "      <th>s_residental</th>\n",
       "      <th>RF_own</th>\n",
       "      <th>RF_LOCAL_own</th>\n",
       "      <th>type_community</th>\n",
       "      <th>demolition_date</th>\n",
       "      <th>id</th>\n",
       "    </tr>\n",
       "  </thead>\n",
       "  <tbody>\n",
       "    <tr>\n",
       "      <th>0</th>\n",
       "      <td>Сведения по ОЖФ Москва г на 09-07-2023_1.csv</td>\n",
       "      <td>101000, Москва г, б-р. Покровский, д. 4/17, ст...</td>\n",
       "      <td>45375000</td>\n",
       "      <td>Многоквартирный</td>\n",
       "      <td>Исправный</td>\n",
       "      <td>5149.2</td>\n",
       "      <td>2745.0</td>\n",
       "      <td>-</td>\n",
       "      <td>-</td>\n",
       "      <td>-</td>\n",
       "      <td>NaN</td>\n",
       "      <td>https://dom.gosuslugi.ru/homemanagement/api/re...</td>\n",
       "    </tr>\n",
       "    <tr>\n",
       "      <th>1</th>\n",
       "      <td>Сведения по ОЖФ Москва г на 09-07-2023_1.csv</td>\n",
       "      <td>101000, Москва г, б-р. Покровский, д. 4/17, ст...</td>\n",
       "      <td>45375000</td>\n",
       "      <td>Многоквартирный</td>\n",
       "      <td>Исправный</td>\n",
       "      <td>995.2</td>\n",
       "      <td>839.5</td>\n",
       "      <td>-</td>\n",
       "      <td>-</td>\n",
       "      <td>-</td>\n",
       "      <td>NaN</td>\n",
       "      <td>https://dom.gosuslugi.ru/homemanagement/api/re...</td>\n",
       "    </tr>\n",
       "    <tr>\n",
       "      <th>2</th>\n",
       "      <td>Сведения по ОЖФ Москва г на 09-07-2023_1.csv</td>\n",
       "      <td>101000, Москва г, б-р. Покровский, д. 4/17, ст...</td>\n",
       "      <td>45375000</td>\n",
       "      <td>Многоквартирный</td>\n",
       "      <td>Исправный</td>\n",
       "      <td>1465.8</td>\n",
       "      <td>1099.2</td>\n",
       "      <td>-</td>\n",
       "      <td>-</td>\n",
       "      <td>-</td>\n",
       "      <td>NaN</td>\n",
       "      <td>https://dom.gosuslugi.ru/homemanagement/api/re...</td>\n",
       "    </tr>\n",
       "  </tbody>\n",
       "</table>\n",
       "</div>"
      ],
      "text/plain": [
       "                                      file_name  \\\n",
       "0  Сведения по ОЖФ Москва г на 09-07-2023_1.csv   \n",
       "1  Сведения по ОЖФ Москва г на 09-07-2023_1.csv   \n",
       "2  Сведения по ОЖФ Москва г на 09-07-2023_1.csv   \n",
       "\n",
       "                                              adress     oktmo  \\\n",
       "0  101000, Москва г, б-р. Покровский, д. 4/17, ст...  45375000   \n",
       "1  101000, Москва г, б-р. Покровский, д. 4/17, ст...  45375000   \n",
       "2  101000, Москва г, б-р. Покровский, д. 4/17, ст...  45375000   \n",
       "\n",
       "        type_house  condition  s_total  s_residental RF_own RF_LOCAL_own  \\\n",
       "0  Многоквартирный  Исправный   5149.2        2745.0      -            -   \n",
       "1  Многоквартирный  Исправный    995.2         839.5      -            -   \n",
       "2  Многоквартирный  Исправный   1465.8        1099.2      -            -   \n",
       "\n",
       "  type_community demolition_date  \\\n",
       "0              -             NaN   \n",
       "1              -             NaN   \n",
       "2              -             NaN   \n",
       "\n",
       "                                                  id  \n",
       "0  https://dom.gosuslugi.ru/homemanagement/api/re...  \n",
       "1  https://dom.gosuslugi.ru/homemanagement/api/re...  \n",
       "2  https://dom.gosuslugi.ru/homemanagement/api/re...  "
      ]
     },
     "execution_count": 339,
     "metadata": {},
     "output_type": "execute_result"
    }
   ],
   "source": [
    "df.head(3)"
   ]
  },
  {
   "cell_type": "code",
   "execution_count": 121,
   "id": "61bd993c",
   "metadata": {},
   "outputs": [],
   "source": [
    "# Материал дома\n",
    "# response['intWallMaterialList']\n",
    "\n",
    "# Износ\n",
    "# response['deterioration']\n",
    "\n",
    "# Год постройки\n",
    "# response['buildingYear']\n",
    "\n",
    "# Год ввода в эксплуатацию\n",
    "# operationYear\n",
    "\n",
    "# Серия дома\n",
    "# response['planSeries']\n",
    "\n",
    "# Дата определения износа\n",
    "# response['deteriorationDate']\n",
    "\n",
    "# Стадия жизненного цикла:\n",
    "# response['lifeCycleStage']"
   ]
  },
  {
   "cell_type": "code",
   "execution_count": 122,
   "id": "f33370e7",
   "metadata": {},
   "outputs": [],
   "source": [
    "# start moscow_houses_spider in terminal\n",
    "# get result.json"
   ]
  },
  {
   "cell_type": "code",
   "execution_count": 2,
   "id": "715e3c3e",
   "metadata": {},
   "outputs": [],
   "source": [
    "df_pars = pd.read_json('result.json')"
   ]
  },
  {
   "cell_type": "code",
   "execution_count": 3,
   "id": "69726daa",
   "metadata": {},
   "outputs": [],
   "source": [
    "df_pars['intWallMaterialList'] = [x['intWallMaterialList'] for x in df_pars.result]\n",
    "df_pars['deterioration'] = [x['deterioration'] for x in df_pars.result]\n",
    "df_pars['buildingYear'] = [x['buildingYear'] for x in df_pars.result]\n",
    "df_pars['operationYear'] = [x['operationYear'] for x in df_pars.result]\n",
    "df_pars['planSeries'] = [x['planSeries'] for x in df_pars.result]\n",
    "df_pars['deteriorationDate'] = [x['deteriorationDate'] for x in df_pars.result]\n",
    "df_pars['lifeCycleStage'] = [x['lifeCycleStage']['lifeCycleStage'] \n",
    "                               if x['lifeCycleStage'] != None \n",
    "                               else x['lifeCycleStage'] for x in df_pars.result]\n",
    "\n",
    "df_pars['houseCondition'] = [x['houseCondition']['houseCondition'] \n",
    "                               if x['houseCondition'] != None \n",
    "                               else x['houseCondition'] for x in df_pars.result]\n",
    "df_pars = df_pars.drop(['result'], axis=1)\n",
    "df_pars.rename(columns={'url':'id'}, inplace=True)"
   ]
  },
  {
   "cell_type": "code",
   "execution_count": 8,
   "id": "b01c6290",
   "metadata": {},
   "outputs": [],
   "source": [
    "df_result = df.merge(df_pars, left_on='id', right_on='id', how='left')"
   ]
  },
  {
   "cell_type": "code",
   "execution_count": 9,
   "id": "7f55d231",
   "metadata": {
    "scrolled": true
   },
   "outputs": [],
   "source": [
    "# Корректируем столбцы\n",
    "# Заполняем пустые ячейки значением 'Нет данных'\n",
    "df_result.lifeCycleStage.replace(to_replace=[None], value='Нет данных', inplace=True)\n",
    "df_result.houseCondition.replace(to_replace=[None], value='Нет данных', inplace=True)\n",
    "df_result.intWallMaterialList.replace(to_replace=[None, ''], value='Нет данных', inplace=True)\n",
    "\n",
    "# Итоговый год с датой строительства/начала эксплуатации дома\n",
    "df_result['correctYear'] = [x[0:4] if x != None else y for x,y in zip(df_result.buildingYear, df_result.operationYear)]\n",
    "df_result = df_result.drop(['buildingYear', 'operationYear'], axis=1)\n",
    "\n",
    "# Укрупняем столбец с информацией о материале дома\n",
    "df_result.intWallMaterialList = [ x.replace(';', ',') for x in df_result.intWallMaterialList ]\n",
    "pattern = r'[A-Я][аА-яЯ| |\\-|\\/]*[^,]'\n",
    "df_result.intWallMaterialList = [ re.findall(pattern, x)[0] for x in df_result.intWallMaterialList ]\n",
    "\n",
    "# Правим столбец с данным о текущем износе\n",
    "df_result.deterioration = [ x.replace(',', '.') if x != None else x for x in df_result.deterioration ]\n",
    "df_result.deterioration = df_result.deterioration.astype(float)\n",
    "df_result.deterioration = [ x / 100 for x in df_result.deterioration]\n",
    "\n",
    "df_result.correctYear = df_result.correctYear.fillna(0)\n",
    "df_result.correctYear.replace(to_replace=['12'], value=0, inplace=True)\n",
    "df_result.correctYear = df_result.correctYear.astype(int)"
   ]
  },
  {
   "cell_type": "code",
   "execution_count": 10,
   "id": "02ce85ea",
   "metadata": {},
   "outputs": [],
   "source": [
    "df_result = df_result.drop(['condition', 'RF_own', 'RF_LOCAL_own', 'type_community', 'demolition_date', 'id'],  axis=1)"
   ]
  },
  {
   "cell_type": "code",
   "execution_count": 11,
   "id": "2614d6fc",
   "metadata": {},
   "outputs": [],
   "source": [
    "df_result.to_excel('full_data.xlsx')"
   ]
  },
  {
   "cell_type": "code",
   "execution_count": null,
   "id": "9c363fec",
   "metadata": {},
   "outputs": [],
   "source": []
  }
 ],
 "metadata": {
  "kernelspec": {
   "display_name": "Python 3 (ipykernel)",
   "language": "python",
   "name": "python3"
  },
  "language_info": {
   "codemirror_mode": {
    "name": "ipython",
    "version": 3
   },
   "file_extension": ".py",
   "mimetype": "text/x-python",
   "name": "python",
   "nbconvert_exporter": "python",
   "pygments_lexer": "ipython3",
   "version": "3.8.13"
  }
 },
 "nbformat": 4,
 "nbformat_minor": 5
}
